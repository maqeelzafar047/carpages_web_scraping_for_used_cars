{
  "nbformat": 4,
  "nbformat_minor": 0,
  "metadata": {
    "colab": {
      "provenance": []
    },
    "kernelspec": {
      "name": "python3",
      "display_name": "Python 3"
    },
    "language_info": {
      "name": "python"
    }
  },
  "cells": [
    {
      "cell_type": "markdown",
      "source": [
        "## **Web Scraping of Used Car Data from Carpages.ca**\n",
        "\n",
        "- This project scrapes used car listings from `carpages.ca`, collecting the **title, ...., price, ...., mileage, city**  posted for each car across 5 pages. The data is extracted using requests and BeautifulSoup, stored in a list, converted to a **pandas DataFrame**, and **saved as a CSV **file for future use."
      ],
      "metadata": {
        "id": "t1--Hcs6zpxU"
      }
    },
    {
      "cell_type": "markdown",
      "source": [
        "### **Importing Required Libraries**\n",
        "- `requests` for making HTTP requests.\n",
        "- `BeautifulSoup` from `bs4` for parsing HTML.\n",
        "- `time` for delays between requests.\n",
        "- `pandas` for creating and saving data in tabular format."
      ],
      "metadata": {
        "id": "ej8t1NJRxEbb"
      }
    },
    {
      "cell_type": "code",
      "source": [
        "import requests\n",
        "from bs4 import BeautifulSoup\n",
        "import pandas as pd\n",
        "import time"
      ],
      "metadata": {
        "id": "oJmYGerKFzsb"
      },
      "execution_count": null,
      "outputs": []
    },
    {
      "cell_type": "code",
      "source": [
        "# https://www.carpages.ca/used-cars/search/?num_results=50&fueltype_id%5B0%5D=3&fueltype_id%5B1%5D=7"
      ],
      "metadata": {
        "id": "ElaTGQQcIJk2"
      },
      "execution_count": null,
      "outputs": []
    },
    {
      "cell_type": "markdown",
      "source": [
        "## **Defining URLs and Collecting Data**"
      ],
      "metadata": {
        "id": "XqiQ-cDoxNOH"
      }
    },
    {
      "cell_type": "code",
      "source": [
        "# Base URL and Headers\n",
        "base_url = \"https://www.carpages.ca/used-cars/search/\"\n",
        "headers = {\n",
        "    \"User-Agent\": \"Mozilla/5.0 (Windows NT 10.0; Win64; x64)\"\n",
        "}"
      ],
      "metadata": {
        "id": "bSzTBiMzFzlw"
      },
      "execution_count": null,
      "outputs": []
    },
    {
      "cell_type": "markdown",
      "source": [
        "### **Initialize Empty List for Car Data**\n",
        "- Creates an empty list car_data that will be used to store all scraped car information as dictionaries."
      ],
      "metadata": {
        "id": "f0bsibtYyC59"
      }
    },
    {
      "cell_type": "code",
      "source": [
        "# List to hold all car data\n",
        "car_data = []"
      ],
      "metadata": {
        "id": "ba5ahcsiF3Pt"
      },
      "execution_count": null,
      "outputs": []
    },
    {
      "cell_type": "markdown",
      "source": [
        "### **Scrape Car Listings from Multiple Pages**\n",
        "Loops through pages **1 to 5** of the used car listings.\n",
        "\n",
        "For each page:\n",
        "\n",
        "- Builds the URL.\n",
        "- Sends an HTTP GET request.\n",
        "- Parses the HTML with BeautifulSoup.\n",
        "- Selects each car listing using a CSS selector.\n",
        "- Extracts title, price, kilometers, and time posted.\n",
        "- Appends the information as a dictionary into the car_data list.\n",
        "\n",
        "Prints success message per page and delays 2 seconds between requests to avoid being blocked."
      ],
      "metadata": {
        "id": "CM1l2c3iyL9F"
      }
    },
    {
      "cell_type": "code",
      "source": [
        "# Number of pages to scrape\n",
        "for page in range(1, 6):  # Scrape first 5 pages (set according to our need)\n",
        "    print(f\"Scraping page {page}...\")\n",
        "    params = {\n",
        "        'num_results': 50,\n",
        "        'fueltype_id[0]': 3,\n",
        "        'fueltype_id[1]': 7,\n",
        "        'page': page\n",
        "    }\n",
        "\n",
        "    # Request the page\n",
        "    response = requests.get(base_url, headers=headers, params=params)\n",
        "    soup = BeautifulSoup(response.text, 'html.parser')"
      ],
      "metadata": {
        "colab": {
          "base_uri": "https://localhost:8080/"
        },
        "id": "eeUmY6crGRbQ",
        "outputId": "4de1f36d-7ecb-4aa5-810e-31d668697bef"
      },
      "execution_count": null,
      "outputs": [
        {
          "output_type": "stream",
          "name": "stdout",
          "text": [
            "Scraping page 1...\n",
            "Scraping page 2...\n",
            "Scraping page 3...\n",
            "Scraping page 4...\n",
            "Scraping page 5...\n"
          ]
        }
      ]
    },
    {
      "cell_type": "code",
      "source": [
        "    # All car cards\n",
        "    car_cards = soup.find_all(\"div\", class_=\"tw:flex tw:gap-6 tw:items-start tw:p-6\")\n",
        "\n",
        "    for card in car_cards:\n",
        "        try:\n",
        "            title = card.find('h4', class_='hN').text.strip()\n",
        "        except:\n",
        "            title = None\n",
        "\n",
        "        try:\n",
        "            subtitle = card.find_all('h5', class_='hN tw:text-gray-500')[0].text.strip()\n",
        "        except:\n",
        "            subtitle = None\n",
        "\n",
        "        try:\n",
        "            color = card.find('span', class_='tw:text-sm tw:font-bold').text.strip()\n",
        "        except:\n",
        "            color = None\n",
        "\n",
        "        try:\n",
        "            price = card.find('span', class_='tw:font-bold tw:text-xl').text.strip()\n",
        "        except:\n",
        "            price = None\n",
        "\n",
        "        try:\n",
        "            dealer = card.find_all('h5', class_='hN')[1].text.strip()\n",
        "        except:\n",
        "            dealer = None\n",
        "\n",
        "        try:\n",
        "            # Mileage from span tags inside the mileage div\n",
        "            mileage_div = card.find_all('div', class_='tw:text-gray-500')\n",
        "            mileage = \"\"\n",
        "            for div in mileage_div:\n",
        "                if \"KM\" in div.text:\n",
        "                    mileage = div.text.strip().replace(\"\\n\", \"\").replace(\" \", \"\")\n",
        "                    break\n",
        "        except:\n",
        "            mileage = None\n",
        "\n",
        "        try:\n",
        "            city = card.find('p', class_='hN').text.strip()\n",
        "        except:\n",
        "            city = None\n",
        "\n",
        "        # Save this car’s info\n",
        "        car_data.append({\n",
        "            'Title': title,\n",
        "            'Subtitle': subtitle,\n",
        "            'Color': color,\n",
        "            'Price': price,\n",
        "            'Dealer': dealer,\n",
        "            'Mileage': mileage,\n",
        "            'City': city\n",
        "        })\n",
        "\n",
        "    time.sleep(2)  # Be polite to the server"
      ],
      "metadata": {
        "id": "IKO-5fuuGVe1"
      },
      "execution_count": null,
      "outputs": []
    },
    {
      "cell_type": "markdown",
      "source": [
        "### **Convert to DataFrame and Save to CSV**\n",
        "- Converts the `car_data` list into a pandas DataFrame, then exports it to a CSV file named `carpages_data.csv` without the index column."
      ],
      "metadata": {
        "id": "bRUqd-0bxaKO"
      }
    },
    {
      "cell_type": "code",
      "source": [
        "# Export to CSV\n",
        "df = pd.DataFrame(car_data)\n",
        "df.to_csv(\"carpages_data.csv\", index=False)\n",
        "print(\"Data saved to carpages_data.csv\")\n",
        "df.head()"
      ],
      "metadata": {
        "colab": {
          "base_uri": "https://localhost:8080/",
          "height": 224
        },
        "id": "w3HcKPIoCg11",
        "outputId": "f350b17f-0ff4-4f8a-9c48-b3a21a2f2d53"
      },
      "execution_count": null,
      "outputs": [
        {
          "output_type": "stream",
          "name": "stdout",
          "text": [
            "Data saved to carpages_cars.csv\n"
          ]
        },
        {
          "output_type": "execute_result",
          "data": {
            "text/plain": [
              "                 Title        Subtitle    Price               City  \\\n",
              "0      2025 Honda CR-V  Hybrid Touring  $52,875      Cranbrook, BC   \n",
              "1      2025 Honda CR-V  Hybrid Touring  $52,875      Cranbrook, BC   \n",
              "2     2025 Mazda CX-70       MHEV GS-L  $45,995         Cayuga, ON   \n",
              "3  2019 Chevrolet Bolt           EV LT  $10,469     Kemptville, ON   \n",
              "4        2025 Kia NIRO          HEV SX  $41,994  Niagara Falls, ON   \n",
              "\n",
              "                   Dealer   Mileage               Color  \n",
              "0            Spring Honda      40KM                Grey  \n",
              "1            Spring Honda      40KM                Blue  \n",
              "2   Haldimand Motors Ltd.  35,962KM               Black  \n",
              "3  Myers Automotive Group  94,650KM                      \n",
              "4            Cardinal Kia      10KM  Aurora Black Pearl  "
            ],
            "text/html": [
              "\n",
              "  <div id=\"df-6b5dad90-5c7b-4ea6-89c5-6725ed79d07d\" class=\"colab-df-container\">\n",
              "    <div>\n",
              "<style scoped>\n",
              "    .dataframe tbody tr th:only-of-type {\n",
              "        vertical-align: middle;\n",
              "    }\n",
              "\n",
              "    .dataframe tbody tr th {\n",
              "        vertical-align: top;\n",
              "    }\n",
              "\n",
              "    .dataframe thead th {\n",
              "        text-align: right;\n",
              "    }\n",
              "</style>\n",
              "<table border=\"1\" class=\"dataframe\">\n",
              "  <thead>\n",
              "    <tr style=\"text-align: right;\">\n",
              "      <th></th>\n",
              "      <th>Title</th>\n",
              "      <th>Subtitle</th>\n",
              "      <th>Price</th>\n",
              "      <th>City</th>\n",
              "      <th>Dealer</th>\n",
              "      <th>Mileage</th>\n",
              "      <th>Color</th>\n",
              "    </tr>\n",
              "  </thead>\n",
              "  <tbody>\n",
              "    <tr>\n",
              "      <th>0</th>\n",
              "      <td>2025 Honda CR-V</td>\n",
              "      <td>Hybrid Touring</td>\n",
              "      <td>$52,875</td>\n",
              "      <td>Cranbrook, BC</td>\n",
              "      <td>Spring Honda</td>\n",
              "      <td>40KM</td>\n",
              "      <td>Grey</td>\n",
              "    </tr>\n",
              "    <tr>\n",
              "      <th>1</th>\n",
              "      <td>2025 Honda CR-V</td>\n",
              "      <td>Hybrid Touring</td>\n",
              "      <td>$52,875</td>\n",
              "      <td>Cranbrook, BC</td>\n",
              "      <td>Spring Honda</td>\n",
              "      <td>40KM</td>\n",
              "      <td>Blue</td>\n",
              "    </tr>\n",
              "    <tr>\n",
              "      <th>2</th>\n",
              "      <td>2025 Mazda CX-70</td>\n",
              "      <td>MHEV GS-L</td>\n",
              "      <td>$45,995</td>\n",
              "      <td>Cayuga, ON</td>\n",
              "      <td>Haldimand Motors Ltd.</td>\n",
              "      <td>35,962KM</td>\n",
              "      <td>Black</td>\n",
              "    </tr>\n",
              "    <tr>\n",
              "      <th>3</th>\n",
              "      <td>2019 Chevrolet Bolt</td>\n",
              "      <td>EV LT</td>\n",
              "      <td>$10,469</td>\n",
              "      <td>Kemptville, ON</td>\n",
              "      <td>Myers Automotive Group</td>\n",
              "      <td>94,650KM</td>\n",
              "      <td></td>\n",
              "    </tr>\n",
              "    <tr>\n",
              "      <th>4</th>\n",
              "      <td>2025 Kia NIRO</td>\n",
              "      <td>HEV SX</td>\n",
              "      <td>$41,994</td>\n",
              "      <td>Niagara Falls, ON</td>\n",
              "      <td>Cardinal Kia</td>\n",
              "      <td>10KM</td>\n",
              "      <td>Aurora Black Pearl</td>\n",
              "    </tr>\n",
              "  </tbody>\n",
              "</table>\n",
              "</div>\n",
              "    <div class=\"colab-df-buttons\">\n",
              "\n",
              "  <div class=\"colab-df-container\">\n",
              "    <button class=\"colab-df-convert\" onclick=\"convertToInteractive('df-6b5dad90-5c7b-4ea6-89c5-6725ed79d07d')\"\n",
              "            title=\"Convert this dataframe to an interactive table.\"\n",
              "            style=\"display:none;\">\n",
              "\n",
              "  <svg xmlns=\"http://www.w3.org/2000/svg\" height=\"24px\" viewBox=\"0 -960 960 960\">\n",
              "    <path d=\"M120-120v-720h720v720H120Zm60-500h600v-160H180v160Zm220 220h160v-160H400v160Zm0 220h160v-160H400v160ZM180-400h160v-160H180v160Zm440 0h160v-160H620v160ZM180-180h160v-160H180v160Zm440 0h160v-160H620v160Z\"/>\n",
              "  </svg>\n",
              "    </button>\n",
              "\n",
              "  <style>\n",
              "    .colab-df-container {\n",
              "      display:flex;\n",
              "      gap: 12px;\n",
              "    }\n",
              "\n",
              "    .colab-df-convert {\n",
              "      background-color: #E8F0FE;\n",
              "      border: none;\n",
              "      border-radius: 50%;\n",
              "      cursor: pointer;\n",
              "      display: none;\n",
              "      fill: #1967D2;\n",
              "      height: 32px;\n",
              "      padding: 0 0 0 0;\n",
              "      width: 32px;\n",
              "    }\n",
              "\n",
              "    .colab-df-convert:hover {\n",
              "      background-color: #E2EBFA;\n",
              "      box-shadow: 0px 1px 2px rgba(60, 64, 67, 0.3), 0px 1px 3px 1px rgba(60, 64, 67, 0.15);\n",
              "      fill: #174EA6;\n",
              "    }\n",
              "\n",
              "    .colab-df-buttons div {\n",
              "      margin-bottom: 4px;\n",
              "    }\n",
              "\n",
              "    [theme=dark] .colab-df-convert {\n",
              "      background-color: #3B4455;\n",
              "      fill: #D2E3FC;\n",
              "    }\n",
              "\n",
              "    [theme=dark] .colab-df-convert:hover {\n",
              "      background-color: #434B5C;\n",
              "      box-shadow: 0px 1px 3px 1px rgba(0, 0, 0, 0.15);\n",
              "      filter: drop-shadow(0px 1px 2px rgba(0, 0, 0, 0.3));\n",
              "      fill: #FFFFFF;\n",
              "    }\n",
              "  </style>\n",
              "\n",
              "    <script>\n",
              "      const buttonEl =\n",
              "        document.querySelector('#df-6b5dad90-5c7b-4ea6-89c5-6725ed79d07d button.colab-df-convert');\n",
              "      buttonEl.style.display =\n",
              "        google.colab.kernel.accessAllowed ? 'block' : 'none';\n",
              "\n",
              "      async function convertToInteractive(key) {\n",
              "        const element = document.querySelector('#df-6b5dad90-5c7b-4ea6-89c5-6725ed79d07d');\n",
              "        const dataTable =\n",
              "          await google.colab.kernel.invokeFunction('convertToInteractive',\n",
              "                                                    [key], {});\n",
              "        if (!dataTable) return;\n",
              "\n",
              "        const docLinkHtml = 'Like what you see? Visit the ' +\n",
              "          '<a target=\"_blank\" href=https://colab.research.google.com/notebooks/data_table.ipynb>data table notebook</a>'\n",
              "          + ' to learn more about interactive tables.';\n",
              "        element.innerHTML = '';\n",
              "        dataTable['output_type'] = 'display_data';\n",
              "        await google.colab.output.renderOutput(dataTable, element);\n",
              "        const docLink = document.createElement('div');\n",
              "        docLink.innerHTML = docLinkHtml;\n",
              "        element.appendChild(docLink);\n",
              "      }\n",
              "    </script>\n",
              "  </div>\n",
              "\n",
              "\n",
              "    <div id=\"df-570aa3b0-71ef-4422-99ac-e23cb6780ed5\">\n",
              "      <button class=\"colab-df-quickchart\" onclick=\"quickchart('df-570aa3b0-71ef-4422-99ac-e23cb6780ed5')\"\n",
              "                title=\"Suggest charts\"\n",
              "                style=\"display:none;\">\n",
              "\n",
              "<svg xmlns=\"http://www.w3.org/2000/svg\" height=\"24px\"viewBox=\"0 0 24 24\"\n",
              "     width=\"24px\">\n",
              "    <g>\n",
              "        <path d=\"M19 3H5c-1.1 0-2 .9-2 2v14c0 1.1.9 2 2 2h14c1.1 0 2-.9 2-2V5c0-1.1-.9-2-2-2zM9 17H7v-7h2v7zm4 0h-2V7h2v10zm4 0h-2v-4h2v4z\"/>\n",
              "    </g>\n",
              "</svg>\n",
              "      </button>\n",
              "\n",
              "<style>\n",
              "  .colab-df-quickchart {\n",
              "      --bg-color: #E8F0FE;\n",
              "      --fill-color: #1967D2;\n",
              "      --hover-bg-color: #E2EBFA;\n",
              "      --hover-fill-color: #174EA6;\n",
              "      --disabled-fill-color: #AAA;\n",
              "      --disabled-bg-color: #DDD;\n",
              "  }\n",
              "\n",
              "  [theme=dark] .colab-df-quickchart {\n",
              "      --bg-color: #3B4455;\n",
              "      --fill-color: #D2E3FC;\n",
              "      --hover-bg-color: #434B5C;\n",
              "      --hover-fill-color: #FFFFFF;\n",
              "      --disabled-bg-color: #3B4455;\n",
              "      --disabled-fill-color: #666;\n",
              "  }\n",
              "\n",
              "  .colab-df-quickchart {\n",
              "    background-color: var(--bg-color);\n",
              "    border: none;\n",
              "    border-radius: 50%;\n",
              "    cursor: pointer;\n",
              "    display: none;\n",
              "    fill: var(--fill-color);\n",
              "    height: 32px;\n",
              "    padding: 0;\n",
              "    width: 32px;\n",
              "  }\n",
              "\n",
              "  .colab-df-quickchart:hover {\n",
              "    background-color: var(--hover-bg-color);\n",
              "    box-shadow: 0 1px 2px rgba(60, 64, 67, 0.3), 0 1px 3px 1px rgba(60, 64, 67, 0.15);\n",
              "    fill: var(--button-hover-fill-color);\n",
              "  }\n",
              "\n",
              "  .colab-df-quickchart-complete:disabled,\n",
              "  .colab-df-quickchart-complete:disabled:hover {\n",
              "    background-color: var(--disabled-bg-color);\n",
              "    fill: var(--disabled-fill-color);\n",
              "    box-shadow: none;\n",
              "  }\n",
              "\n",
              "  .colab-df-spinner {\n",
              "    border: 2px solid var(--fill-color);\n",
              "    border-color: transparent;\n",
              "    border-bottom-color: var(--fill-color);\n",
              "    animation:\n",
              "      spin 1s steps(1) infinite;\n",
              "  }\n",
              "\n",
              "  @keyframes spin {\n",
              "    0% {\n",
              "      border-color: transparent;\n",
              "      border-bottom-color: var(--fill-color);\n",
              "      border-left-color: var(--fill-color);\n",
              "    }\n",
              "    20% {\n",
              "      border-color: transparent;\n",
              "      border-left-color: var(--fill-color);\n",
              "      border-top-color: var(--fill-color);\n",
              "    }\n",
              "    30% {\n",
              "      border-color: transparent;\n",
              "      border-left-color: var(--fill-color);\n",
              "      border-top-color: var(--fill-color);\n",
              "      border-right-color: var(--fill-color);\n",
              "    }\n",
              "    40% {\n",
              "      border-color: transparent;\n",
              "      border-right-color: var(--fill-color);\n",
              "      border-top-color: var(--fill-color);\n",
              "    }\n",
              "    60% {\n",
              "      border-color: transparent;\n",
              "      border-right-color: var(--fill-color);\n",
              "    }\n",
              "    80% {\n",
              "      border-color: transparent;\n",
              "      border-right-color: var(--fill-color);\n",
              "      border-bottom-color: var(--fill-color);\n",
              "    }\n",
              "    90% {\n",
              "      border-color: transparent;\n",
              "      border-bottom-color: var(--fill-color);\n",
              "    }\n",
              "  }\n",
              "</style>\n",
              "\n",
              "      <script>\n",
              "        async function quickchart(key) {\n",
              "          const quickchartButtonEl =\n",
              "            document.querySelector('#' + key + ' button');\n",
              "          quickchartButtonEl.disabled = true;  // To prevent multiple clicks.\n",
              "          quickchartButtonEl.classList.add('colab-df-spinner');\n",
              "          try {\n",
              "            const charts = await google.colab.kernel.invokeFunction(\n",
              "                'suggestCharts', [key], {});\n",
              "          } catch (error) {\n",
              "            console.error('Error during call to suggestCharts:', error);\n",
              "          }\n",
              "          quickchartButtonEl.classList.remove('colab-df-spinner');\n",
              "          quickchartButtonEl.classList.add('colab-df-quickchart-complete');\n",
              "        }\n",
              "        (() => {\n",
              "          let quickchartButtonEl =\n",
              "            document.querySelector('#df-570aa3b0-71ef-4422-99ac-e23cb6780ed5 button');\n",
              "          quickchartButtonEl.style.display =\n",
              "            google.colab.kernel.accessAllowed ? 'block' : 'none';\n",
              "        })();\n",
              "      </script>\n",
              "    </div>\n",
              "\n",
              "    </div>\n",
              "  </div>\n"
            ],
            "application/vnd.google.colaboratory.intrinsic+json": {
              "type": "dataframe",
              "variable_name": "df",
              "summary": "{\n  \"name\": \"df\",\n  \"rows\": 250,\n  \"fields\": [\n    {\n      \"column\": \"Title\",\n      \"properties\": {\n        \"dtype\": \"category\",\n        \"num_unique_values\": 32,\n        \"samples\": [\n          \"2025 Mitsubishi Outlander\",\n          \"2015 Toyota Prius\",\n          \"2017 Toyota Prius\"\n        ],\n        \"semantic_type\": \"\",\n        \"description\": \"\"\n      }\n    },\n    {\n      \"column\": \"Subtitle\",\n      \"properties\": {\n        \"dtype\": \"category\",\n        \"num_unique_values\": 36,\n        \"samples\": [\n          \"Sport  SPORT 1, AWD, SUPER CRUISE, 19.2 KW CHARGE MODULE\",\n          \"Hybrid EX-L\",\n          \"|HB|No Accident|One Owner|\"\n        ],\n        \"semantic_type\": \"\",\n        \"description\": \"\"\n      }\n    },\n    {\n      \"column\": \"Price\",\n      \"properties\": {\n        \"dtype\": \"category\",\n        \"num_unique_values\": 38,\n        \"samples\": [\n          \"$45,900\",\n          \"$65,945\",\n          \"$35,544\"\n        ],\n        \"semantic_type\": \"\",\n        \"description\": \"\"\n      }\n    },\n    {\n      \"column\": \"City\",\n      \"properties\": {\n        \"dtype\": \"category\",\n        \"num_unique_values\": 25,\n        \"samples\": [\n          \"Winnipeg, MB\",\n          \"Brantford, ON\",\n          \"Cranbrook, BC\"\n        ],\n        \"semantic_type\": \"\",\n        \"description\": \"\"\n      }\n    },\n    {\n      \"column\": \"Dealer\",\n      \"properties\": {\n        \"dtype\": \"category\",\n        \"num_unique_values\": 31,\n        \"samples\": [\n          \"Steele Auto Group\",\n          \"Birchwood Honda on Regent\",\n          \"Fiesta Motors Inc\"\n        ],\n        \"semantic_type\": \"\",\n        \"description\": \"\"\n      }\n    },\n    {\n      \"column\": \"Mileage\",\n      \"properties\": {\n        \"dtype\": \"category\",\n        \"num_unique_values\": 31,\n        \"samples\": [\n          \"76,745KM\",\n          \"41,089KM\",\n          \"131,238KM\"\n        ],\n        \"semantic_type\": \"\",\n        \"description\": \"\"\n      }\n    },\n    {\n      \"column\": \"Color\",\n      \"properties\": {\n        \"dtype\": \"category\",\n        \"num_unique_values\": 27,\n        \"samples\": [\n          \"PHANTOM BLACK\",\n          \"Beige\",\n          \"Red\"\n        ],\n        \"semantic_type\": \"\",\n        \"description\": \"\"\n      }\n    }\n  ]\n}"
            }
          },
          "metadata": {},
          "execution_count": 44
        }
      ]
    },
    {
      "cell_type": "code",
      "source": [
        "print(\"Alhumdulillah (^_^)\")"
      ],
      "metadata": {
        "colab": {
          "base_uri": "https://localhost:8080/"
        },
        "id": "-lXYJ7LnE-ML",
        "outputId": "25984517-3e10-4be0-be78-ca5c29ae073b"
      },
      "execution_count": null,
      "outputs": [
        {
          "output_type": "stream",
          "name": "stdout",
          "text": [
            "Alhumdulillah (^_^)\n"
          ]
        }
      ]
    }
  ]
}